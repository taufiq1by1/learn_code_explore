{
 "cells": [
  {
   "cell_type": "code",
   "execution_count": 2,
   "id": "02e52090",
   "metadata": {},
   "outputs": [
    {
     "name": "stdout",
     "output_type": "stream",
     "text": [
      "(4, 8, 9)\n",
      "<class 'tuple'>\n"
     ]
    }
   ],
   "source": [
    "#Defining a tuple\n",
    "tup1 = (4,8,9)\n",
    "print(tup1)\n",
    "print(type(tup1))"
   ]
  },
  {
   "cell_type": "code",
   "execution_count": 4,
   "id": "70232c94",
   "metadata": {},
   "outputs": [
    {
     "name": "stdout",
     "output_type": "stream",
     "text": [
      "(4, 5.0, 'g')\n",
      "<class 'tuple'>\n"
     ]
    }
   ],
   "source": [
    "#tup with elements of different data types\n",
    "tup2 = (4,5.0,'g')\n",
    "print(tup2)\n",
    "print(type(tup2))"
   ]
  },
  {
   "cell_type": "code",
   "execution_count": 5,
   "id": "c4bdc844",
   "metadata": {},
   "outputs": [
    {
     "data": {
      "text/plain": [
       "3"
      ]
     },
     "execution_count": 5,
     "metadata": {},
     "output_type": "execute_result"
    }
   ],
   "source": [
    "#how many elements in the tuple\n",
    "len(tup2)"
   ]
  },
  {
   "cell_type": "code",
   "execution_count": 6,
   "id": "20bc02e5",
   "metadata": {},
   "outputs": [
    {
     "data": {
      "text/plain": [
       "4"
      ]
     },
     "execution_count": 6,
     "metadata": {},
     "output_type": "execute_result"
    }
   ],
   "source": [
    "#accessing the elements\n",
    "tup2[0]"
   ]
  },
  {
   "cell_type": "code",
   "execution_count": 8,
   "id": "32d937ec",
   "metadata": {},
   "outputs": [
    {
     "data": {
      "text/plain": [
       "'g'"
      ]
     },
     "execution_count": 8,
     "metadata": {},
     "output_type": "execute_result"
    }
   ],
   "source": [
    "tup2[-1]"
   ]
  },
  {
   "cell_type": "code",
   "execution_count": 10,
   "id": "0fbf6741",
   "metadata": {},
   "outputs": [
    {
     "data": {
      "text/plain": [
       "(4, 5.0)"
      ]
     },
     "execution_count": 10,
     "metadata": {},
     "output_type": "execute_result"
    }
   ],
   "source": [
    "tup2[:2]"
   ]
  },
  {
   "cell_type": "code",
   "execution_count": 11,
   "id": "e64f1e11",
   "metadata": {},
   "outputs": [
    {
     "name": "stdout",
     "output_type": "stream",
     "text": [
      "gh <class 'str'>\n",
      "(4, 5) <class 'tuple'>\n"
     ]
    }
   ],
   "source": [
    "# what if we store more than one values in a variable using just commas to separate\n",
    "var1 = 'gh'\n",
    "print(var1,type(var1))\n",
    "\n",
    "var2 = 4,5\n",
    "print(var2,type(var2))"
   ]
  },
  {
   "cell_type": "code",
   "execution_count": 12,
   "id": "14fd9c45",
   "metadata": {},
   "outputs": [
    {
     "name": "stdout",
     "output_type": "stream",
     "text": [
      "(4, 6, 'jk', (6+5j)) <class 'tuple'>\n"
     ]
    }
   ],
   "source": [
    "var3 = 4,6,'jk',6+5j\n",
    "print(var3,type(var3))"
   ]
  },
  {
   "cell_type": "code",
   "execution_count": 13,
   "id": "c6e664ba",
   "metadata": {},
   "outputs": [
    {
     "name": "stdout",
     "output_type": "stream",
     "text": [
      "(4, 8, 9, '45') <class 'tuple'>\n"
     ]
    }
   ],
   "source": [
    "#type casting\n",
    "tup3 = tuple([4,8,9,'45'])\n",
    "print(tup3,type(tup3))"
   ]
  },
  {
   "cell_type": "code",
   "execution_count": 14,
   "id": "7ead85f2",
   "metadata": {},
   "outputs": [
    {
     "ename": "TypeError",
     "evalue": "'tuple' object does not support item assignment",
     "output_type": "error",
     "traceback": [
      "\u001b[1;31m---------------------------------------------------------------------------\u001b[0m",
      "\u001b[1;31mTypeError\u001b[0m                                 Traceback (most recent call last)",
      "\u001b[1;32m~\\AppData\\Local\\Temp\\ipykernel_5344\\1737143189.py\u001b[0m in \u001b[0;36m<module>\u001b[1;34m\u001b[0m\n\u001b[0;32m      1\u001b[0m \u001b[1;31m#tuple is immutable\u001b[0m\u001b[1;33m\u001b[0m\u001b[1;33m\u001b[0m\u001b[0m\n\u001b[0;32m      2\u001b[0m \u001b[1;33m\u001b[0m\u001b[0m\n\u001b[1;32m----> 3\u001b[1;33m \u001b[0mtup3\u001b[0m\u001b[1;33m[\u001b[0m\u001b[1;36m2\u001b[0m\u001b[1;33m]\u001b[0m \u001b[1;33m=\u001b[0m \u001b[1;34m'new'\u001b[0m\u001b[1;33m\u001b[0m\u001b[1;33m\u001b[0m\u001b[0m\n\u001b[0m",
      "\u001b[1;31mTypeError\u001b[0m: 'tuple' object does not support item assignment"
     ]
    }
   ],
   "source": [
    "#tuple is immutable\n",
    "\n",
    "tup3[2] = 'new'"
   ]
  },
  {
   "cell_type": "code",
   "execution_count": 15,
   "id": "7cefe26a",
   "metadata": {},
   "outputs": [
    {
     "data": {
      "text/plain": [
       "('S', 'h', 'e', 'f', 'a', 'y', 'e', 't')"
      ]
     },
     "execution_count": 15,
     "metadata": {},
     "output_type": "execute_result"
    }
   ],
   "source": [
    "# what happens if we cast a string into a tuple\n",
    "tup4 = tuple('Shefayet')\n",
    "tup4"
   ]
  },
  {
   "cell_type": "code",
   "execution_count": 16,
   "id": "aeaf2d84",
   "metadata": {},
   "outputs": [
    {
     "ename": "TypeError",
     "evalue": "tuple expected at most 1 argument, got 2",
     "output_type": "error",
     "traceback": [
      "\u001b[1;31m---------------------------------------------------------------------------\u001b[0m",
      "\u001b[1;31mTypeError\u001b[0m                                 Traceback (most recent call last)",
      "\u001b[1;32m~\\AppData\\Local\\Temp\\ipykernel_5344\\3199368012.py\u001b[0m in \u001b[0;36m<module>\u001b[1;34m\u001b[0m\n\u001b[1;32m----> 1\u001b[1;33m \u001b[0mtup4\u001b[0m  \u001b[1;33m=\u001b[0m \u001b[0mtuple\u001b[0m\u001b[1;33m(\u001b[0m\u001b[1;34m'Shefayet'\u001b[0m\u001b[1;33m,\u001b[0m\u001b[1;34m'Taufiq'\u001b[0m\u001b[1;33m)\u001b[0m\u001b[1;33m\u001b[0m\u001b[1;33m\u001b[0m\u001b[0m\n\u001b[0m",
      "\u001b[1;31mTypeError\u001b[0m: tuple expected at most 1 argument, got 2"
     ]
    }
   ],
   "source": [
    "tup4  = tuple('Shefayet','Taufiq')"
   ]
  },
  {
   "cell_type": "code",
   "execution_count": 18,
   "id": "734a2f0d",
   "metadata": {},
   "outputs": [
    {
     "name": "stdout",
     "output_type": "stream",
     "text": [
      "('Shefayet', 'Taufiq') <class 'tuple'>\n"
     ]
    }
   ],
   "source": [
    "tup4 = tuple(['Shefayet','Taufiq'])\n",
    "print(tup4,type(tup4))"
   ]
  },
  {
   "cell_type": "markdown",
   "id": "47813a69",
   "metadata": {},
   "source": [
    "When you’re defining tuples within more complicated expressions, it’s often necessary\n",
    "to enclose the values in parentheses, as in this example of creating a tuple of\n",
    "tuples:"
   ]
  },
  {
   "cell_type": "code",
   "execution_count": 19,
   "id": "db9c96de",
   "metadata": {},
   "outputs": [
    {
     "name": "stdout",
     "output_type": "stream",
     "text": [
      "((3.4, 3.6, 3.8), (4, 6)) <class 'tuple'>\n"
     ]
    }
   ],
   "source": [
    "tup5 = (3.4,3.6,3.8),(4,6)\n",
    "print(tup5,type(tup5))"
   ]
  },
  {
   "cell_type": "code",
   "execution_count": 20,
   "id": "f5ffecd3",
   "metadata": {},
   "outputs": [
    {
     "name": "stdout",
     "output_type": "stream",
     "text": [
      "((4, 5, 8), [4, 8]) <class 'tuple'>\n"
     ]
    }
   ],
   "source": [
    "tup5 = (4,5,8),[4,8]\n",
    "print(tup5,type(tup5))"
   ]
  },
  {
   "cell_type": "code",
   "execution_count": 21,
   "id": "5cab47a4",
   "metadata": {},
   "outputs": [
    {
     "name": "stdout",
     "output_type": "stream",
     "text": [
      "(8, 'gh', (4, 5)) <class 'tuple'>\n"
     ]
    }
   ],
   "source": [
    "tup5  = 8,'gh',(4,5)\n",
    "print(tup5,type(tup5))"
   ]
  },
  {
   "cell_type": "code",
   "execution_count": 22,
   "id": "4a456ecc",
   "metadata": {},
   "outputs": [
    {
     "ename": "TypeError",
     "evalue": "'tuple' object does not support item assignment",
     "output_type": "error",
     "traceback": [
      "\u001b[1;31m---------------------------------------------------------------------------\u001b[0m",
      "\u001b[1;31mTypeError\u001b[0m                                 Traceback (most recent call last)",
      "\u001b[1;32m~\\AppData\\Local\\Temp\\ipykernel_5344\\1150631814.py\u001b[0m in \u001b[0;36m<module>\u001b[1;34m\u001b[0m\n\u001b[1;32m----> 1\u001b[1;33m \u001b[0mtup5\u001b[0m\u001b[1;33m[\u001b[0m\u001b[1;36m2\u001b[0m\u001b[1;33m]\u001b[0m \u001b[1;33m=\u001b[0m \u001b[1;33m(\u001b[0m\u001b[1;36m4\u001b[0m\u001b[1;33m,\u001b[0m\u001b[1;36m5\u001b[0m\u001b[1;33m,\u001b[0m\u001b[1;36m8\u001b[0m\u001b[1;33m)\u001b[0m\u001b[1;33m\u001b[0m\u001b[1;33m\u001b[0m\u001b[0m\n\u001b[0m",
      "\u001b[1;31mTypeError\u001b[0m: 'tuple' object does not support item assignment"
     ]
    }
   ],
   "source": [
    "tup5[2] = (4,5,8)"
   ]
  },
  {
   "cell_type": "code",
   "execution_count": 23,
   "id": "5d5e3283",
   "metadata": {},
   "outputs": [
    {
     "name": "stdout",
     "output_type": "stream",
     "text": [
      "(5, 8, [7, 8], {<built-in function id>: 20204024}) <class 'tuple'>\n",
      "(5, 8, [7, 8, 'Messi'], {<built-in function id>: 20204024})\n"
     ]
    }
   ],
   "source": [
    "#If an object inside a tuple is mutable, such as a list, you can modify it in place:\n",
    "tup6 = 5,8,[7,8],{id:20204024} # here I made a mistake,id should be 'id'\n",
    "print(tup6,type(tup6))\n",
    "tup6[2].append('Messi')\n",
    "print(tup6)"
   ]
  },
  {
   "cell_type": "code",
   "execution_count": 24,
   "id": "4c062efd",
   "metadata": {},
   "outputs": [
    {
     "data": {
      "text/plain": [
       "{<function id(obj, /)>: 20204024}"
      ]
     },
     "execution_count": 24,
     "metadata": {},
     "output_type": "execute_result"
    }
   ],
   "source": [
    "tup6[3]"
   ]
  },
  {
   "cell_type": "code",
   "execution_count": 25,
   "id": "586d8b2b",
   "metadata": {},
   "outputs": [
    {
     "data": {
      "text/plain": [
       "dict"
      ]
     },
     "execution_count": 25,
     "metadata": {},
     "output_type": "execute_result"
    }
   ],
   "source": [
    "type(tup6[3])"
   ]
  },
  {
   "cell_type": "code",
   "execution_count": 26,
   "id": "9fa64fbd",
   "metadata": {},
   "outputs": [],
   "source": [
    "tup6[3]['gender']  = 'female'"
   ]
  },
  {
   "cell_type": "code",
   "execution_count": 27,
   "id": "73953ae9",
   "metadata": {},
   "outputs": [
    {
     "data": {
      "text/plain": [
       "(5, 8, [7, 8, 'Messi'], {<function id(obj, /)>: 20204024, 'gender': 'female'})"
      ]
     },
     "execution_count": 27,
     "metadata": {},
     "output_type": "execute_result"
    }
   ],
   "source": [
    "tup6"
   ]
  },
  {
   "cell_type": "code",
   "execution_count": 28,
   "id": "5939a15f",
   "metadata": {},
   "outputs": [
    {
     "name": "stdout",
     "output_type": "stream",
     "text": [
      "(5, 8, [7, 8], {'id': 20204024}) <class 'tuple'>\n"
     ]
    }
   ],
   "source": [
    "tup6 = 5,8,[7,8],{'id':20204024}\n",
    "print(tup6,type(tup6))"
   ]
  },
  {
   "cell_type": "code",
   "execution_count": 29,
   "id": "30e40426",
   "metadata": {},
   "outputs": [
    {
     "ename": "NameError",
     "evalue": "name 'ghghggh' is not defined",
     "output_type": "error",
     "traceback": [
      "\u001b[1;31m---------------------------------------------------------------------------\u001b[0m",
      "\u001b[1;31mNameError\u001b[0m                                 Traceback (most recent call last)",
      "\u001b[1;32m~\\AppData\\Local\\Temp\\ipykernel_5344\\3015504855.py\u001b[0m in \u001b[0;36m<module>\u001b[1;34m\u001b[0m\n\u001b[1;32m----> 1\u001b[1;33m \u001b[0mtup6\u001b[0m \u001b[1;33m=\u001b[0m \u001b[1;36m5\u001b[0m\u001b[1;33m,\u001b[0m\u001b[1;36m8\u001b[0m\u001b[1;33m,\u001b[0m\u001b[1;33m[\u001b[0m\u001b[1;36m7\u001b[0m\u001b[1;33m,\u001b[0m\u001b[1;36m8\u001b[0m\u001b[1;33m]\u001b[0m\u001b[1;33m,\u001b[0m\u001b[1;33m{\u001b[0m\u001b[0mghghggh\u001b[0m\u001b[1;33m:\u001b[0m\u001b[1;36m20204024\u001b[0m\u001b[1;33m}\u001b[0m\u001b[1;33m\u001b[0m\u001b[1;33m\u001b[0m\u001b[0m\n\u001b[0m\u001b[0;32m      2\u001b[0m \u001b[0mprint\u001b[0m\u001b[1;33m(\u001b[0m\u001b[0mtup6\u001b[0m\u001b[1;33m,\u001b[0m\u001b[0mtype\u001b[0m\u001b[1;33m(\u001b[0m\u001b[0mtup6\u001b[0m\u001b[1;33m)\u001b[0m\u001b[1;33m)\u001b[0m\u001b[1;33m\u001b[0m\u001b[1;33m\u001b[0m\u001b[0m\n",
      "\u001b[1;31mNameError\u001b[0m: name 'ghghggh' is not defined"
     ]
    }
   ],
   "source": [
    " tup6 = 5,8,[7,8],{ghghggh:20204024}\n",
    " print(tup6,type(tup6))   "
   ]
  },
  {
   "cell_type": "code",
   "execution_count": 30,
   "id": "2801e737",
   "metadata": {},
   "outputs": [],
   "source": [
    "id?"
   ]
  },
  {
   "cell_type": "code",
   "execution_count": 31,
   "id": "d0db1375",
   "metadata": {},
   "outputs": [
    {
     "name": "stdout",
     "output_type": "stream",
     "text": [
      "Help on built-in function id in module builtins:\n",
      "\n",
      "id(obj, /)\n",
      "    Return the identity of an object.\n",
      "    \n",
      "    This is guaranteed to be unique among simultaneously existing objects.\n",
      "    (CPython uses the object's memory address.)\n",
      "\n"
     ]
    }
   ],
   "source": [
    "help(id)"
   ]
  },
  {
   "cell_type": "code",
   "execution_count": 32,
   "id": "e6528cf4",
   "metadata": {},
   "outputs": [
    {
     "data": {
      "text/plain": [
       "(5, 8, [7, 8], {'id': 20204024})"
      ]
     },
     "execution_count": 32,
     "metadata": {},
     "output_type": "execute_result"
    }
   ],
   "source": [
    "tup6"
   ]
  },
  {
   "cell_type": "code",
   "execution_count": 36,
   "id": "a8ffabc1",
   "metadata": {},
   "outputs": [
    {
     "data": {
      "text/plain": [
       "(5, 8, [7], {'id': 20204024})"
      ]
     },
     "execution_count": 36,
     "metadata": {},
     "output_type": "execute_result"
    }
   ],
   "source": [
    "tup6 = 5,8,[7,8],{'id':20204024}\n",
    "tup6[2].remove(8)\n",
    "tup6"
   ]
  },
  {
   "cell_type": "code",
   "execution_count": 39,
   "id": "f6f623ff",
   "metadata": {},
   "outputs": [
    {
     "name": "stdout",
     "output_type": "stream",
     "text": [
      "(4, 8, 9)\n",
      "(4, 5.0, 'g')\n",
      "(4, 8, 9, 4, 5.0, 'g')\n"
     ]
    }
   ],
   "source": [
    "#You can concatenate tuples using the + operator to produce longer tuples:\n",
    "tup7 = tup1 + tup2\n",
    "print(tup1,tup2,tup7,sep = '\\n')"
   ]
  },
  {
   "cell_type": "code",
   "execution_count": 40,
   "id": "f3a05ca4",
   "metadata": {},
   "outputs": [
    {
     "data": {
      "text/plain": [
       "(4, 8, 9, 4, 5.0, 'g', 4, 8, 9, 4, 5.0, 'g')"
      ]
     },
     "execution_count": 40,
     "metadata": {},
     "output_type": "execute_result"
    }
   ],
   "source": [
    "'''Multiplying a tuple by an integer, as with lists, \n",
    "has the effect of concatenating that many copies of the tuple:'''\n",
    "tup7*2"
   ]
  },
  {
   "cell_type": "code",
   "execution_count": 41,
   "id": "0c23f20d",
   "metadata": {},
   "outputs": [
    {
     "data": {
      "text/plain": [
       "(4, 8, 9, 4, 5.0, 'g')"
      ]
     },
     "execution_count": 41,
     "metadata": {},
     "output_type": "execute_result"
    }
   ],
   "source": [
    "tup7"
   ]
  },
  {
   "cell_type": "markdown",
   "id": "df8c8ada",
   "metadata": {},
   "source": [
    "## Unpacking tuples"
   ]
  },
  {
   "cell_type": "code",
   "execution_count": 42,
   "id": "f9a9b043",
   "metadata": {},
   "outputs": [
    {
     "data": {
      "text/plain": [
       "(4, 8, 9)"
      ]
     },
     "execution_count": 42,
     "metadata": {},
     "output_type": "execute_result"
    }
   ],
   "source": [
    "tup1"
   ]
  },
  {
   "cell_type": "code",
   "execution_count": 43,
   "id": "333ef0e8",
   "metadata": {},
   "outputs": [],
   "source": [
    "a,b,c = tup1"
   ]
  },
  {
   "cell_type": "code",
   "execution_count": 44,
   "id": "6f39bf65",
   "metadata": {},
   "outputs": [
    {
     "data": {
      "text/plain": [
       "9"
      ]
     },
     "execution_count": 44,
     "metadata": {},
     "output_type": "execute_result"
    }
   ],
   "source": [
    "c"
   ]
  },
  {
   "cell_type": "code",
   "execution_count": 45,
   "id": "377d791c",
   "metadata": {},
   "outputs": [
    {
     "ename": "ValueError",
     "evalue": "not enough values to unpack (expected 4, got 3)",
     "output_type": "error",
     "traceback": [
      "\u001b[1;31m---------------------------------------------------------------------------\u001b[0m",
      "\u001b[1;31mValueError\u001b[0m                                Traceback (most recent call last)",
      "\u001b[1;32m~\\AppData\\Local\\Temp\\ipykernel_5344\\24921960.py\u001b[0m in \u001b[0;36m<module>\u001b[1;34m\u001b[0m\n\u001b[1;32m----> 1\u001b[1;33m \u001b[0ma\u001b[0m\u001b[1;33m,\u001b[0m\u001b[0mb\u001b[0m\u001b[1;33m,\u001b[0m\u001b[0mc\u001b[0m\u001b[1;33m,\u001b[0m\u001b[0md\u001b[0m \u001b[1;33m=\u001b[0m \u001b[0mtup1\u001b[0m\u001b[1;33m\u001b[0m\u001b[1;33m\u001b[0m\u001b[0m\n\u001b[0m",
      "\u001b[1;31mValueError\u001b[0m: not enough values to unpack (expected 4, got 3)"
     ]
    }
   ],
   "source": [
    "a,b,c,d = tup1"
   ]
  },
  {
   "cell_type": "code",
   "execution_count": 46,
   "id": "2b6036b9",
   "metadata": {},
   "outputs": [
    {
     "ename": "TypeError",
     "evalue": "cannot unpack non-iterable int object",
     "output_type": "error",
     "traceback": [
      "\u001b[1;31m---------------------------------------------------------------------------\u001b[0m",
      "\u001b[1;31mTypeError\u001b[0m                                 Traceback (most recent call last)",
      "\u001b[1;32m~\\AppData\\Local\\Temp\\ipykernel_5344\\1961430053.py\u001b[0m in \u001b[0;36m<module>\u001b[1;34m\u001b[0m\n\u001b[1;32m----> 1\u001b[1;33m \u001b[0mx\u001b[0m\u001b[1;33m,\u001b[0m\u001b[0my\u001b[0m \u001b[1;33m=\u001b[0m \u001b[1;36m4\u001b[0m\u001b[1;33m\u001b[0m\u001b[1;33m\u001b[0m\u001b[0m\n\u001b[0m",
      "\u001b[1;31mTypeError\u001b[0m: cannot unpack non-iterable int object"
     ]
    }
   ],
   "source": [
    "x,y = 4"
   ]
  },
  {
   "cell_type": "code",
   "execution_count": 47,
   "id": "267b40c7",
   "metadata": {},
   "outputs": [],
   "source": [
    "x,y = [4,5]"
   ]
  },
  {
   "cell_type": "code",
   "execution_count": 48,
   "id": "bf431231",
   "metadata": {},
   "outputs": [
    {
     "data": {
      "text/plain": [
       "4"
      ]
     },
     "execution_count": 48,
     "metadata": {},
     "output_type": "execute_result"
    }
   ],
   "source": [
    "x"
   ]
  },
  {
   "cell_type": "code",
   "execution_count": 49,
   "id": "a72663f3",
   "metadata": {},
   "outputs": [
    {
     "data": {
      "text/plain": [
       "5"
      ]
     },
     "execution_count": 49,
     "metadata": {},
     "output_type": "execute_result"
    }
   ],
   "source": [
    "y"
   ]
  },
  {
   "cell_type": "code",
   "execution_count": 50,
   "id": "bf1a7950",
   "metadata": {},
   "outputs": [
    {
     "ename": "ValueError",
     "evalue": "not enough values to unpack (expected 2, got 1)",
     "output_type": "error",
     "traceback": [
      "\u001b[1;31m---------------------------------------------------------------------------\u001b[0m",
      "\u001b[1;31mValueError\u001b[0m                                Traceback (most recent call last)",
      "\u001b[1;32m~\\AppData\\Local\\Temp\\ipykernel_5344\\1771934921.py\u001b[0m in \u001b[0;36m<module>\u001b[1;34m\u001b[0m\n\u001b[1;32m----> 1\u001b[1;33m \u001b[0mx\u001b[0m\u001b[1;33m,\u001b[0m\u001b[0my\u001b[0m \u001b[1;33m=\u001b[0m \u001b[1;33m[\u001b[0m\u001b[1;36m5\u001b[0m\u001b[1;33m]\u001b[0m\u001b[1;33m\u001b[0m\u001b[1;33m\u001b[0m\u001b[0m\n\u001b[0m",
      "\u001b[1;31mValueError\u001b[0m: not enough values to unpack (expected 2, got 1)"
     ]
    }
   ],
   "source": [
    "x,y = [5]"
   ]
  },
  {
   "cell_type": "code",
   "execution_count": 52,
   "id": "ca17868b",
   "metadata": {},
   "outputs": [
    {
     "data": {
      "text/plain": [
       "'hello'"
      ]
     },
     "execution_count": 52,
     "metadata": {},
     "output_type": "execute_result"
    }
   ],
   "source": [
    "#Even sequences with nested tuples can be unpacked:\n",
    "tup8  = 5,8,('hello','world')\n",
    "a,b,(c,d) = tup8\n",
    "c"
   ]
  },
  {
   "cell_type": "code",
   "execution_count": 53,
   "id": "63a04a2e",
   "metadata": {},
   "outputs": [
    {
     "ename": "ValueError",
     "evalue": "not enough values to unpack (expected 4, got 3)",
     "output_type": "error",
     "traceback": [
      "\u001b[1;31m---------------------------------------------------------------------------\u001b[0m",
      "\u001b[1;31mValueError\u001b[0m                                Traceback (most recent call last)",
      "\u001b[1;32m~\\AppData\\Local\\Temp\\ipykernel_5344\\951019124.py\u001b[0m in \u001b[0;36m<module>\u001b[1;34m\u001b[0m\n\u001b[1;32m----> 1\u001b[1;33m \u001b[0ma\u001b[0m\u001b[1;33m,\u001b[0m\u001b[0mb\u001b[0m\u001b[1;33m,\u001b[0m\u001b[0mc\u001b[0m\u001b[1;33m,\u001b[0m\u001b[0md\u001b[0m \u001b[1;33m=\u001b[0m \u001b[0mtup8\u001b[0m\u001b[1;33m\u001b[0m\u001b[1;33m\u001b[0m\u001b[0m\n\u001b[0m",
      "\u001b[1;31mValueError\u001b[0m: not enough values to unpack (expected 4, got 3)"
     ]
    }
   ],
   "source": [
    "a,b,c,d = tup8"
   ]
  },
  {
   "cell_type": "code",
   "execution_count": 54,
   "id": "8c041d8f",
   "metadata": {},
   "outputs": [
    {
     "name": "stdout",
     "output_type": "stream",
     "text": [
      "a is 1 and b is 2\n",
      "Now a is 2 and b is 1\n"
     ]
    }
   ],
   "source": [
    "# Swaping variable names\n",
    "a,b = 1,2\n",
    "print(f\"a is {a} and b is {b}\")\n",
    "a,b  = b,a\n",
    "print(f\"Now a is {a} and b is {b}\")"
   ]
  },
  {
   "cell_type": "code",
   "execution_count": 55,
   "id": "846f62d4",
   "metadata": {},
   "outputs": [
    {
     "name": "stdout",
     "output_type": "stream",
     "text": [
      "a is 1 and b is 2\n",
      "Now a is 2 and b is 1\n"
     ]
    }
   ],
   "source": [
    "# Swaping variable names\n",
    "a,b = 1,2\n",
    "print(f\"a is {a} and b is {b}\")\n",
    "b,a = a,b\n",
    "print(f\"Now a is {a} and b is {b}\")"
   ]
  },
  {
   "cell_type": "markdown",
   "id": "d59386db",
   "metadata": {},
   "source": [
    "A common use of variable unpacking is iterating over sequences of tuples or lists:"
   ]
  },
  {
   "cell_type": "code",
   "execution_count": 57,
   "id": "6a0367f2",
   "metadata": {},
   "outputs": [
    {
     "name": "stdout",
     "output_type": "stream",
     "text": [
      "a is 1\n",
      "b is 2\n",
      "c is 3\n",
      "\n",
      "a is 4\n",
      "b is 5\n",
      "c is 6\n",
      "\n",
      "a is 7\n",
      "b is 8\n",
      "c is 9\n",
      "\n"
     ]
    }
   ],
   "source": [
    "seq = [(1,2,3),(4,5,6),(7,8,9)]\n",
    "for a,b,c in seq:\n",
    "    print(f\"a is {a}\\nb is {b}\\nc is {c}\\n\")"
   ]
  },
  {
   "cell_type": "code",
   "execution_count": 59,
   "id": "bba909d9",
   "metadata": {},
   "outputs": [
    {
     "name": "stdout",
     "output_type": "stream",
     "text": [
      "1\n"
     ]
    }
   ],
   "source": [
    "a,b,c =seq[0] \n",
    "print(a)"
   ]
  },
  {
   "cell_type": "markdown",
   "id": "3a632cd5",
   "metadata": {},
   "source": [
    "There are some situations where you may want to “pluck” a few elements from the\n",
    "beginning of a tuple. There is a special syntax that can do this, *rest, which is also\n",
    "used in function signatures to capture an arbitrarily long list of positional arguments:"
   ]
  },
  {
   "cell_type": "code",
   "execution_count": 60,
   "id": "86465019",
   "metadata": {},
   "outputs": [
    {
     "name": "stdout",
     "output_type": "stream",
     "text": [
      "red\n",
      "green\n",
      "['blue', 'violet', 'orange', 'white', 'black']\n"
     ]
    }
   ],
   "source": [
    "color = 'red','green','blue','violet','orange','white','black'\n",
    "a,b,*rest = color\n",
    "print(a,b,rest,sep = '\\n')"
   ]
  },
  {
   "cell_type": "code",
   "execution_count": 61,
   "id": "74a901d1",
   "metadata": {},
   "outputs": [
    {
     "data": {
      "text/plain": [
       "['blue', 'violet', 'orange', 'white', 'black']"
      ]
     },
     "execution_count": 61,
     "metadata": {},
     "output_type": "execute_result"
    }
   ],
   "source": [
    "rest"
   ]
  },
  {
   "cell_type": "code",
   "execution_count": 62,
   "id": "4bfcd722",
   "metadata": {},
   "outputs": [
    {
     "data": {
      "text/plain": [
       "list"
      ]
     },
     "execution_count": 62,
     "metadata": {},
     "output_type": "execute_result"
    }
   ],
   "source": [
    "type(rest)"
   ]
  },
  {
   "cell_type": "code",
   "execution_count": 63,
   "id": "441aa480",
   "metadata": {},
   "outputs": [
    {
     "name": "stdout",
     "output_type": "stream",
     "text": [
      "red\n",
      "green\n",
      "['blue']\n",
      "<class 'list'>\n"
     ]
    }
   ],
   "source": [
    "color = 'red','green','blue'\n",
    "a,b,*rest = color\n",
    "print(a,b,rest,type(rest),sep = '\\n')\n"
   ]
  },
  {
   "cell_type": "markdown",
   "id": "6e7f2dbd",
   "metadata": {},
   "source": [
    "there is nothing special\n",
    "about the rest name. As a matter of convention, many Python programmers will use\n",
    "the underscore (_) for unwanted variables:"
   ]
  },
  {
   "cell_type": "code",
   "execution_count": 73,
   "id": "8e1f118f",
   "metadata": {},
   "outputs": [],
   "source": [
    "values = 1,2,3,4,5,6,7,8\n",
    "a,b,*_ = values"
   ]
  },
  {
   "cell_type": "code",
   "execution_count": 68,
   "id": "8311ad9d",
   "metadata": {},
   "outputs": [
    {
     "data": {
      "text/plain": [
       "1"
      ]
     },
     "execution_count": 68,
     "metadata": {},
     "output_type": "execute_result"
    }
   ],
   "source": [
    "a"
   ]
  },
  {
   "cell_type": "code",
   "execution_count": 69,
   "id": "4c8d058d",
   "metadata": {},
   "outputs": [
    {
     "data": {
      "text/plain": [
       "2"
      ]
     },
     "execution_count": 69,
     "metadata": {},
     "output_type": "execute_result"
    }
   ],
   "source": [
    "b"
   ]
  },
  {
   "cell_type": "code",
   "execution_count": 75,
   "id": "e65364c0",
   "metadata": {},
   "outputs": [
    {
     "data": {
      "text/plain": [
       "[3, 4, 5, 6, 7, 8]"
      ]
     },
     "execution_count": 75,
     "metadata": {},
     "output_type": "execute_result"
    }
   ],
   "source": [
    "_"
   ]
  },
  {
   "cell_type": "code",
   "execution_count": 78,
   "id": "2de3f1de",
   "metadata": {},
   "outputs": [
    {
     "name": "stdout",
     "output_type": "stream",
     "text": [
      "(4, 5, 6, 4, 5, 6, 4, 5, 6, 4, 5, 6, 4, 5, 6, 4, 5, 6, 4, 5, 6, 4, 5, 6, 4, 5, 6, 4, 5, 6)\n",
      "30\n",
      "10\n"
     ]
    }
   ],
   "source": [
    "# count method\n",
    "tup = (4,5,6)*10\n",
    "print(tup,len(tup),tup.count(5),sep='\\n')"
   ]
  },
  {
   "cell_type": "code",
   "execution_count": null,
   "id": "2e554c57",
   "metadata": {},
   "outputs": [],
   "source": []
  }
 ],
 "metadata": {
  "kernelspec": {
   "display_name": "Python 3 (ipykernel)",
   "language": "python",
   "name": "python3"
  },
  "language_info": {
   "codemirror_mode": {
    "name": "ipython",
    "version": 3
   },
   "file_extension": ".py",
   "mimetype": "text/x-python",
   "name": "python",
   "nbconvert_exporter": "python",
   "pygments_lexer": "ipython3",
   "version": "3.9.13"
  }
 },
 "nbformat": 4,
 "nbformat_minor": 5
}
